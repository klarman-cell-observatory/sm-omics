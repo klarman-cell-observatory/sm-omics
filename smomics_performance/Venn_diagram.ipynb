{
 "cells": [
  {
   "cell_type": "markdown",
   "metadata": {},
   "source": [
    "Script to make a Venn diagram of number of genes in each condition.\n",
    "\n",
    "Input files are downsampled\n",
    "\n",
    "data files needed to run are available at SCP: https://singlecell.broadinstitute.org/single_cell/study/SCP979/\n",
    "please download:<br>\n",
    "10005CN48_C1_downsamp_stdata.tsv <br>\n",
    "10005CN48_D1_downsamp_stdata.tsv <br>\n",
    "10005CN48_E1_downsamp_stdata.tsv <br>\n",
    "10015CN60_E2_downsamp_stdata.tsv <br>\n",
    "10015CN84_C2_downsamp_stdata.tsv <br>\n",
    "10015CN84_D2_downsamp_stdata.tsv <br>\n",
    "10005CN48_C1_stdata_under_tissue_IDs.txt <br>\n",
    "10005CN48_D1_stdata_under_tissue_IDs.txt <br>\n",
    "10005CN48_E1_stdata_under_tissue_IDs.txt <br>\n",
    "10015CN60_E2_stdata_under_tissue_IDs.txt <br>\n",
    "10015CN84_C2_stdata_under_tissue_IDs.txt <br>\n",
    "10015CN84_D2_stdata_under_tissue_IDs.txt <br>"
   ]
  },
  {
   "cell_type": "code",
   "execution_count": 1,
   "metadata": {},
   "outputs": [],
   "source": [
    "%matplotlib inline\n",
    "import os\n",
    "import pandas as pd\n",
    "import numpy as np\n",
    "import matplotlib.pyplot as plt\n",
    "import seaborn as sns\n",
    "import glob\n",
    "from matplotlib_venn import venn2"
   ]
  },
  {
   "cell_type": "code",
   "execution_count": 2,
   "metadata": {},
   "outputs": [],
   "source": [
    "import warnings\n",
    "warnings.filterwarnings('ignore')"
   ]
  },
  {
   "cell_type": "code",
   "execution_count": 3,
   "metadata": {},
   "outputs": [],
   "source": [
    "# Make a sample-condition dictionary\n",
    "sam_cond = {'ST': ['10005CN48_C1', '10005CN48_D1', '10005CN48_E1'],\n",
    "           'sm-omics':['10015CN84_D2', '10015CN84_C2', '10015CN60_E2']}"
   ]
  },
  {
   "cell_type": "code",
   "execution_count": 4,
   "metadata": {
    "scrolled": true
   },
   "outputs": [],
   "source": [
    "# Load input files, tsv files from st-pipeline\n",
    "\n",
    "path = '../../smomics_data'\n",
    "\n",
    "samples_list = ['10005CN48_C1', '10005CN48_D1', '10005CN48_E1', '10015CN84_D2', '10015CN84_C2', '10015CN60_E2']\n",
    "    \n",
    "files_dict = {}\n",
    "    \n",
    "for filename in samples_list:\n",
    "    \n",
    "    file = pd.read_csv(os.path.join(path, filename + '_downsamp_stdata.tsv'), sep = '\\t', index_col=0)\n",
    "\n",
    "    files_dict[filename] = file.T\n"
   ]
  },
  {
   "cell_type": "code",
   "execution_count": 5,
   "metadata": {},
   "outputs": [],
   "source": [
    "'Splits counts file to inside vs outside tissue'\n",
    "genes_under_tissue_dict = {}\n",
    "    \n",
    "for filename in samples_list:\n",
    "    \n",
    "    file = pd.read_csv(os.path.join(path, filename + '_stdata_under_tissue_IDs.txt'), sep = '\\t', index_col=0)\n",
    "    \n",
    "    spot_coord = list()\n",
    "    \n",
    "    # 10005CN48_E1 samples have spot coordinates in float...\n",
    "    if filename.startswith('10005CN48_E1'):\n",
    "        for spots in list(file):\n",
    "            spot_tmp = [ float(elem) for elem in spots.split('_') ]\n",
    "            spot_tmp2 = [ round(elem, 0) for elem in spot_tmp ]\n",
    "            spot_tmp3 = [ int(elem) for elem in spot_tmp2 ]\n",
    "\n",
    "            new_spot_coord = str(spot_tmp3[0]) + 'x' + str(spot_tmp3[1])\n",
    "            spot_coord.append(new_spot_coord)\n",
    "    else:\n",
    "        for spots in list(file):\n",
    "            spots_tmp = spots.split('_')\n",
    "            new_spot_coord = str(spots_tmp[0]) + 'x' + str(spots_tmp[1])   \n",
    "            spot_coord.append(new_spot_coord)\n",
    "\n",
    "    genes_under_tissue_dict[filename] = spot_coord\n",
    "\n",
    "files_underoutside_tissue_dict = {}\n",
    "\n",
    "for k, v in files_dict.items():\n",
    "    #print(genes_under_tissue_dict[k])\n",
    "    v_under_tissue = v[genes_under_tissue_dict[k]]\n",
    "\n",
    "    # Spots outside of tissue\n",
    "    spots_outside_tissue = [x for x in list(v) if x not in list(v_under_tissue)]\n",
    "    v_outside_tissue = v[spots_outside_tissue] \n",
    "\n",
    "    files_underoutside_tissue_dict[k] = [v_under_tissue, v_outside_tissue]"
   ]
  },
  {
   "cell_type": "code",
   "execution_count": 6,
   "metadata": {},
   "outputs": [
    {
     "name": "stdout",
     "output_type": "stream",
     "text": [
      "10005CN48_C1\n",
      "3887\n",
      "10005CN48_D1\n",
      "3524\n",
      "10005CN48_E1\n",
      "2759\n",
      "10015CN84_D2\n",
      "9338\n",
      "10015CN84_C2\n",
      "8699\n",
      "10015CN60_E2\n",
      "9769\n"
     ]
    }
   ],
   "source": [
    "# Filter on sequencing depth\n",
    "seq_depth = {'10015CN84_D2':[23113376, 23],\n",
    "            '10015CN60_E2':[33876251, 33],\n",
    "            '10015CN84_C2':[28174220, 28],\n",
    "            '10005CN48_C1':[71022006, 71],\n",
    "            '10005CN48_D1':[75643539, 75],\n",
    "            '10005CN48_E1': [58631758, 58]}\n",
    "\n",
    "gene_dict = {}\n",
    "co = 800\n",
    "for key, value in files_underoutside_tissue_dict.items():\n",
    "    \n",
    "    for i, val in enumerate(value): # [inside/outside] of tissue  \n",
    "\n",
    "        # Sum the counts for each gene\n",
    "        val['tot count'] = val.sum(axis=1)\n",
    "\n",
    "        # Remove genes (rows) where the total sum is less than xx       \n",
    "        value_red = val[val['tot count'] > seq_depth[key][1]]\n",
    "\n",
    "        # Remove tot count column\n",
    "        value_red.drop(['tot count'], axis = 1, inplace=True)\n",
    "        \n",
    "        # remove lowly expressed spots\n",
    "        value_red = value_red.loc[:, value_red.sum(axis=0) > co]\n",
    "        \n",
    "        # remove lowest 5% genes\n",
    "        value_red = value_red.loc[value_red.astype(bool).sum(axis = 1) > 0.02*np.mean(value_red.sum(axis = 1)),:]\n",
    "        \n",
    "        if i == 0: # inside tissue\n",
    "            # Store these gene name\n",
    "            genes = value_red.index.tolist()    \n",
    "            gene_dict[key] = genes\n",
    "            print(key)\n",
    "            print(len(genes))"
   ]
  },
  {
   "cell_type": "code",
   "execution_count": 7,
   "metadata": {
    "scrolled": true
   },
   "outputs": [
    {
     "name": "stdout",
     "output_type": "stream",
     "text": [
      "3887\n",
      "3524\n",
      "2759\n",
      "9338\n",
      "8699\n",
      "9769\n",
      "3887\n",
      "3524\n",
      "2759\n",
      "9338\n",
      "8699\n",
      "9769\n"
     ]
    }
   ],
   "source": [
    "# Take the average of the 3 replicates\n",
    "ave_genes_dict = {}\n",
    "\n",
    "for key, value in sam_cond.items():\n",
    "    \n",
    "    genes_in_common = list()\n",
    "    \n",
    "    for gene_key, gene_value in gene_dict.items():\n",
    "        \n",
    "        print(len(gene_value))\n",
    "        \n",
    "        if gene_key in value:\n",
    "            \n",
    "            genes_in_common.append(gene_value)\n",
    "\n",
    "    # Which genes are present in all three samples? \n",
    "    ave_genes = list(set(genes_in_common[0]).intersection(genes_in_common[1],genes_in_common[2]))\n",
    "    \n",
    "    ave_genes_dict[key] = ave_genes\n"
   ]
  },
  {
   "cell_type": "code",
   "execution_count": 8,
   "metadata": {},
   "outputs": [
    {
     "data": {
      "image/png": "[encoded data removed]",
      "text/plain": [
       "<Figure size 1440x720 with 1 Axes>"
      ]
     },
     "metadata": {},
     "output_type": "display_data"
    }
   ],
   "source": [
    "# Plot figure with subplots of different sizes\n",
    "fig = plt.figure(figsize=(10, 5)) \n",
    "ax1 = plt.subplot2grid((1, 1), (0, 0))\n",
    "\n",
    "a = venn2([set(ave_genes_dict['sm-omics']), set(ave_genes_dict['ST'])], set_labels = ('sm-omics', 'ST'), ax=ax1)\n",
    "\n",
    "#ax1.text(-0.8, 0.5,'A', fontsize=22)\n",
    "\n",
    "lbl = a.get_label_by_id('A')\n",
    "x, y = lbl.get_position()\n",
    "lbl.set_position((-0.65, 0))  \n",
    "lbl = a.get_label_by_id('B')\n",
    "x, y = lbl.get_position()\n",
    "lbl.set_position((0.6, 0))\n",
    "\n",
    "a.get_patch_by_id('10').set_color('cadetblue')\n",
    "a.get_patch_by_id('01').set_color('lightcoral')\n",
    "a.get_patch_by_id('11').set_color('grey')\n",
    "\n",
    "fig.set_size_inches(20, 10)\n",
    "# plt.savefig(\"../../figures/SM_ST_Venn.pdf\", transparent=True, bbox_inches = 'tight',\n",
    "#    pad_inches = 0, dpi=1200)"
   ]
  },
  {
   "cell_type": "code",
   "execution_count": 9,
   "metadata": {},
   "outputs": [
    {
     "data": {
      "text/plain": [
       "3.222012815680362"
      ]
     },
     "execution_count": 9,
     "metadata": {},
     "output_type": "execute_result"
    }
   ],
   "source": [
    "((6224+2324)/(2324+329))"
   ]
  },
  {
   "cell_type": "code",
   "execution_count": 10,
   "metadata": {},
   "outputs": [
    {
     "data": {
      "text/plain": [
       "8548"
      ]
     },
     "execution_count": 10,
     "metadata": {},
     "output_type": "execute_result"
    }
   ],
   "source": [
    "6224+2324"
   ]
  },
  {
   "cell_type": "code",
   "execution_count": 11,
   "metadata": {},
   "outputs": [
    {
     "data": {
      "text/plain": [
       "2653"
      ]
     },
     "execution_count": 11,
     "metadata": {},
     "output_type": "execute_result"
    }
   ],
   "source": [
    "2324+329"
   ]
  },
  {
   "cell_type": "code",
   "execution_count": 12,
   "metadata": {},
   "outputs": [
    {
     "data": {
      "text/plain": [
       "3.222012815680362"
      ]
     },
     "execution_count": 12,
     "metadata": {},
     "output_type": "execute_result"
    }
   ],
   "source": [
    "len(set(ave_genes_dict['sm-omics']))/len(set(ave_genes_dict['ST']))"
   ]
  },
  {
   "cell_type": "code",
   "execution_count": 13,
   "metadata": {},
   "outputs": [],
   "source": [
    "\"Translate ensembl gene symbols to refseq\"\n",
    "genes_names_dict = pd.read_csv(\"../../smomics_data/Gene_names_mm.txt\", header = None)\n",
    "genes_names_dict['ensemble'] = list([i.split(\"_\")[0] for i in genes_names_dict[0]])\n",
    "genes_names_dict['names'] = list([i.split(\"_\")[1] for i in genes_names_dict[0]])\n",
    "genes_names_dict = genes_names_dict.drop(0, axis = 1)\n",
    "genes_names_dict.index = genes_names_dict['ensemble']\n",
    "genes_names_dict = genes_names_dict.drop('ensemble', axis = 1)\n",
    "genes_names_dict_final = genes_names_dict.to_dict()"
   ]
  },
  {
   "cell_type": "code",
   "execution_count": 14,
   "metadata": {},
   "outputs": [],
   "source": [
    "\"Get sm-omics gene names\"\n",
    "smomics_genes =  [genes_names_dict_final['names'][key] for key in ave_genes_dict['sm-omics']]"
   ]
  },
  {
   "cell_type": "code",
   "execution_count": 15,
   "metadata": {},
   "outputs": [],
   "source": [
    "\"Get st gene names\"\n",
    "st_genes =  [genes_names_dict_final['names'][key] for key in ave_genes_dict['ST']]"
   ]
  },
  {
   "cell_type": "code",
   "execution_count": 16,
   "metadata": {},
   "outputs": [
    {
     "name": "stdout",
     "output_type": "stream",
     "text": [
      "Camk4  gene in SM-Omics\n",
      "Camk4  gene not in ST\n",
      "Ctgf  gene in SM-Omics\n",
      "Ctgf  gene not in ST\n",
      "Lancl3  gene in SM-Omics\n",
      "Lancl3  gene not in ST\n",
      "Cbln4  gene in SM-Omics\n",
      "Cbln4  gene not in ST\n"
     ]
    }
   ],
   "source": [
    "\"Check if genes in sm-omics and st\"\n",
    "for gene in ['Camk4', 'Ctgf','Lancl3', 'Cbln4']:\n",
    "    if gene in smomics_genes:\n",
    "        print(gene, \" gene in SM-Omics\")\n",
    "    if not gene in st_genes:\n",
    "        print(gene, \" gene not in ST\")"
   ]
  },
  {
   "cell_type": "code",
   "execution_count": null,
   "metadata": {},
   "outputs": [],
   "source": []
  }
 ],
 "metadata": {
  "kernelspec": {
   "display_name": "Python 3",
   "language": "python",
   "name": "python3"
  },
  "language_info": {
   "codemirror_mode": {
    "name": "ipython",
    "version": 3
   },
   "file_extension": ".py",
   "mimetype": "text/x-python",
   "name": "python",
   "nbconvert_exporter": "python",
   "pygments_lexer": "ipython3",
   "version": "3.9.2"
  }
 },
 "nbformat": 4,
 "nbformat_minor": 2
}
